{
 "metadata": {
  "language_info": {
   "codemirror_mode": {
    "name": "ipython",
    "version": 3
   },
   "file_extension": ".py",
   "mimetype": "text/x-python",
   "name": "python",
   "nbconvert_exporter": "python",
   "pygments_lexer": "ipython3",
   "version": "3.8.3-final"
  },
  "orig_nbformat": 2,
  "kernelspec": {
   "name": "python3",
   "display_name": "Python 3.8.3 64-bit (conda)",
   "metadata": {
    "interpreter": {
     "hash": "0116cc6f8a4c3feccc64e343ab38af3bf406b631cdd695a0f21af10e191e0654"
    }
   }
  }
 },
 "nbformat": 4,
 "nbformat_minor": 2,
 "cells": [
  {
   "source": [
    "<h4>This Notebook will mainly Be used for capstone</h4>"
   ],
   "cell_type": "markdown",
   "metadata": {}
  },
  {
   "cell_type": "code",
   "execution_count": 50,
   "metadata": {},
   "outputs": [],
   "source": [
    "import pandas as pd\n",
    "import numpy as np"
   ]
  },
  {
   "cell_type": "code",
   "execution_count": 28,
   "metadata": {},
   "outputs": [],
   "source": [
    "import requests\n",
    "from bs4 import BeautifulSoup\n",
    "from pandas.io.json import json_normalize\n",
    "\n",
    "url='https://en.wikipedia.org/wiki/List_of_postal_codes_of_Canada:_M'\n",
    "\n",
    "data=requests.get(url).text\n",
    "\n",
    "\n",
    "\n"
   ]
  },
  {
   "cell_type": "code",
   "execution_count": 29,
   "metadata": {},
   "outputs": [],
   "source": [
    "bs=BeautifulSoup(data,'lxml')\n"
   ]
  },
  {
   "cell_type": "code",
   "execution_count": 52,
   "metadata": {},
   "outputs": [],
   "source": [
    "df=pd.DataFrame(columns=['Postal code','Borough','Neighbourhood'])"
   ]
  },
  {
   "cell_type": "code",
   "execution_count": 122,
   "metadata": {},
   "outputs": [],
   "source": [
    "for items in bs.find('tbody').find_all('tr'):\n",
    "    data=items.find_all_next('td')\n",
    "    pc=data[0].text.replace('\\n','')\n",
    "    br=data[1].text.replace('\\n','')\n",
    "    nbh=data[2].text.replace('\\n','')\n",
    "    df=df.append({'Postal code':pc,'Borough':br,'Neighbourhood':nbh},ignore_index=True)\n",
    "    \n"
   ]
  },
  {
   "cell_type": "code",
   "execution_count": 123,
   "metadata": {},
   "outputs": [
    {
     "output_type": "execute_result",
     "data": {
      "text/plain": [
       "  Postal code       Borough     Neighbourhood\n",
       "0         M1A  Not assigned      Not assigned\n",
       "1         M1A  Not assigned      Not assigned\n",
       "2         M2A  Not assigned      Not assigned\n",
       "3         M3A    North York         Parkwoods\n",
       "4         M4A    North York  Victoria Village"
      ],
      "text/html": "<div>\n<style scoped>\n    .dataframe tbody tr th:only-of-type {\n        vertical-align: middle;\n    }\n\n    .dataframe tbody tr th {\n        vertical-align: top;\n    }\n\n    .dataframe thead th {\n        text-align: right;\n    }\n</style>\n<table border=\"1\" class=\"dataframe\">\n  <thead>\n    <tr style=\"text-align: right;\">\n      <th></th>\n      <th>Postal code</th>\n      <th>Borough</th>\n      <th>Neighbourhood</th>\n    </tr>\n  </thead>\n  <tbody>\n    <tr>\n      <th>0</th>\n      <td>M1A</td>\n      <td>Not assigned</td>\n      <td>Not assigned</td>\n    </tr>\n    <tr>\n      <th>1</th>\n      <td>M1A</td>\n      <td>Not assigned</td>\n      <td>Not assigned</td>\n    </tr>\n    <tr>\n      <th>2</th>\n      <td>M2A</td>\n      <td>Not assigned</td>\n      <td>Not assigned</td>\n    </tr>\n    <tr>\n      <th>3</th>\n      <td>M3A</td>\n      <td>North York</td>\n      <td>Parkwoods</td>\n    </tr>\n    <tr>\n      <th>4</th>\n      <td>M4A</td>\n      <td>North York</td>\n      <td>Victoria Village</td>\n    </tr>\n  </tbody>\n</table>\n</div>"
     },
     "metadata": {},
     "execution_count": 123
    }
   ],
   "source": [
    "\n",
    "# df.drop(df.index[range(len(df))],inplace=True)\n",
    "df.head()\n"
   ]
  },
  {
   "cell_type": "code",
   "execution_count": 124,
   "metadata": {},
   "outputs": [
    {
     "output_type": "execute_result",
     "data": {
      "text/plain": [
       "(181, 3)"
      ]
     },
     "metadata": {},
     "execution_count": 124
    }
   ],
   "source": [
    "df.shape"
   ]
  },
  {
   "cell_type": "code",
   "execution_count": 129,
   "metadata": {},
   "outputs": [
    {
     "output_type": "execute_result",
     "data": {
      "text/plain": [
       "Borough          Neighbourhood                  \n",
       "Not assigned     Not assigned                       78\n",
       "North York       Downsview                           4\n",
       "                 Don Mills                           2\n",
       "York             Weston                              1\n",
       "East York        Parkview Hill, Woodbine Gardens     1\n",
       "                                                    ..\n",
       "North York       Willowdale, Willowdale West         1\n",
       "                 York Mills West                     1\n",
       "                 York Mills, Silver Hills            1\n",
       "Scarborough      Agincourt                           1\n",
       "Central Toronto  Davisville                          1\n",
       "Length: 100, dtype: int64"
      ]
     },
     "metadata": {},
     "execution_count": 129
    }
   ],
   "source": [
    "df[['Borough','Neighbourhood']].value_counts()"
   ]
  },
  {
   "source": [
    "\n",
    "<h4>78 values are not assigned any borough and neighbourhhoood they are need to be evaluated and assigned the new values</h4>"
   ],
   "cell_type": "markdown",
   "metadata": {}
  }
 ]
}